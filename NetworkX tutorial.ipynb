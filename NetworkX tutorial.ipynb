{
 "cells": [
  {
   "cell_type": "markdown",
   "metadata": {},
   "source": [
    "## Tutorial NetworkX\n",
    "\n",
    "* Creating a graph\n",
    "* Nodes\n",
    "* Edges\n",
    "* What to use as nodes and edges\n",
    "* Accessing edges\n",
    "* Adding attributes to graphs, nodes, and edges\n",
    "* Graph attributes\n",
    "* Node attributes\n",
    "* Edge Attributes\n",
    "* Directed graphs\n",
    "* Multigraphs\n",
    "* Graph generators and graph operations\n",
    "* Analyzing graphs\n",
    "* Drawing graphs[]\n",
    "* [Creating a graph](#creating_a_graph)\n",
    "\n",
    "\n",
    "\n",
    "Now that you have an idea of what the NetworkX package provides, you should investigate the parts of the package most useful for you.\n",
    "\n",
    "Reference Section provides details on NetworkX.\n",
    "\n",
    "NetworkX Examples provides some example programs written using NetworkX."
   ]
  },
  {
   "cell_type": "markdown",
   "metadata": {},
   "source": [
    "<a id= 'creating_a_graph'></a>"
   ]
  },
  {
   "cell_type": "markdown",
   "metadata": {},
   "source": [
    "#### Creating a graph\n",
    "\n",
    "Create an empty graph with no nodes and no edges.\n",
    "   \n",
    "   \n",
    "   `test\n",
    "    stuff`\n",
    "hetete"
   ]
  },
  {
   "cell_type": "code",
   "execution_count": null,
   "metadata": {
    "collapsed": true
   },
   "outputs": [],
   "source": []
  },
  {
   "cell_type": "code",
   "execution_count": null,
   "metadata": {
    "collapsed": true
   },
   "outputs": [],
   "source": []
  },
  {
   "cell_type": "code",
   "execution_count": null,
   "metadata": {
    "collapsed": true
   },
   "outputs": [],
   "source": []
  },
  {
   "cell_type": "code",
   "execution_count": null,
   "metadata": {
    "collapsed": true
   },
   "outputs": [],
   "source": []
  },
  {
   "cell_type": "code",
   "execution_count": null,
   "metadata": {
    "collapsed": true
   },
   "outputs": [],
   "source": []
  }
 ],
 "metadata": {
  "anaconda-cloud": {},
  "kernelspec": {
   "display_name": "Python [Root]",
   "language": "python",
   "name": "Python [Root]"
  },
  "language_info": {
   "codemirror_mode": {
    "name": "ipython",
    "version": 2
   },
   "file_extension": ".py",
   "mimetype": "text/x-python",
   "name": "python",
   "nbconvert_exporter": "python",
   "pygments_lexer": "ipython2",
   "version": "2.7.12"
  }
 },
 "nbformat": 4,
 "nbformat_minor": 0
}
